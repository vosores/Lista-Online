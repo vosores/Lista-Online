{
  "nbformat": 4,
  "nbformat_minor": 0,
  "metadata": {
    "colab": {
      "name": "Copia de Lista.ipynb",
      "provenance": [],
      "collapsed_sections": []
    },
    "kernelspec": {
      "name": "python3",
      "display_name": "Python 3"
    },
    "language_info": {
      "name": "python"
    }
  },
  "cells": [
    {
      "cell_type": "markdown",
      "metadata": {
        "id": "9ifsT6DXQsJl"
      },
      "source": [
        "# Código para pasar lista.\n",
        "\n",
        "El siguiente código puede calcular el total de minutos que ha permanecido conectado un estudiante $x$, el código es capaz de notar si el estudiante se ha conectado mas de una vez en la misma reunión.\n",
        "\n",
        "El código necesita los siguientes documentos:\n",
        "  1.   Una lista con los estudiantes del curso con formato definido. Este archivo debe tener por nombre \"CódigoDelCurso-Sección.csv\"\n",
        "  2.   Informe de zoom con los participantes de la reunión. Este archivo debe tener por nombre \"participants.csv\".\n",
        "\n",
        "Además es necesario cambiar las siguientes lineas:\n",
        "\n",
        "\n",
        "1.   email_docente = 'victor.osores@ucsc.cl'  \n",
        "     curso = \"IN1002C-12\"\n",
        "\n",
        "     por:\n",
        "\n",
        "     email_docente = 'su email'  \n",
        "     curso = \"su curso\"\n",
        "\n",
        "Para el buen funcionamiento del código los estudiantes deben conectarse a la reunión con su respectivo correo institucional, en caso contrario aparecerá como ausente.\n",
        "\n",
        "\n",
        "Atte.  \n",
        "Dr. V. Osores.\n",
        "\n"
      ]
    },
    {
      "cell_type": "code",
      "metadata": {
        "id": "nttSqRq-ERAN"
      },
      "source": [
        "import pandas as pd\n",
        "import numpy as np\n",
        "from google.colab import files\n",
        "uploaded = files.upload()\n",
        "import io\n",
        "#%reload_ext google.colab.data_table\n",
        "\n",
        "####################################################################\n",
        "#                --porcentaje_min_de_tiempo--                      #\n",
        "#------------------------------------------------------------------#\n",
        "#                                                                  #\n",
        "# El estudiante debe estar el 80% del tiempo que está conectado    #\n",
        "# el docente para considerarlo presente. Puede cambiar a 1.0 si    #\n",
        "# necesita saber cual de sus estudiantes estuvo conectado el mismo #\n",
        "# tiempo que estuvo conectado el docente.                          #\n",
        "#                                                                  #\n",
        "####################################################################\n",
        "\n",
        "porcentaje_min_de_tiempo = 0.9\n",
        "email_docente = 'victor.osores@ucsc.cl'\n",
        "curso = \"IN1002C-12\"\n",
        "nombre_archivo_zoom = \"participants.csv\"\n",
        "\n",
        "df_curso = pd.read_csv(io.BytesIO(uploaded[curso + \".csv\"]), sep=',')#pd.read_csv (curso + \".csv\", sep = \",\")\n",
        "columns = [\"Estudiante\",\"Correo\",\"Minutos conectado\",\"Tiempo mínimo\",\"Asiste?\"]\n",
        "reporte = pd.DataFrame(columns=columns)\n",
        "\n",
        "reporte[\"Estudiante\"] = df_curso[\"ALUMNO\"]\n",
        "reporte[\"Correo\"] = df_curso[\"EMAIL\"]\n",
        "\n",
        "df = pd.read_csv(io.BytesIO(uploaded[nombre_archivo_zoom]), sep=',')"
      ],
      "execution_count": null,
      "outputs": []
    },
    {
      "cell_type": "code",
      "metadata": {
        "id": "Px9BOIY6ZUx3"
      },
      "source": [
        "df = df.groupby(\"E-mail del usuario\", as_index=False).sum()\n",
        "\n",
        "t_max = np.float64(df[\"Duración (minutos)\"][df[\"E-mail del usuario\"]== email_docente])\n",
        "\n",
        "t_presente = (t_max-10.0)*porcentaje_min_de_tiempo\n",
        "time = []\n",
        "for email in df_curso[\"EMAIL\"]:\n",
        "    if (any(email == df[\"E-mail del usuario\"]) == True):\n",
        "        time.append(np.float64(df[\"Duración (minutos)\"][email == df[\"E-mail del usuario\"]]))\n",
        "    else:\n",
        "        time.append(np.float64(0))\n",
        "\n",
        "reporte[\"Minutos conectado\"] = time\n",
        "reporte[\"Tiempo mínimo\"] = t_presente\n",
        "reporte[\"Asiste?\"] = reporte[\"Minutos conectado\"] > t_presente\n",
        "reporte"
      ],
      "execution_count": null,
      "outputs": []
    }
  ]
}